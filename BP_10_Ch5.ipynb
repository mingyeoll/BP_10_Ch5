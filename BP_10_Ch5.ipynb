{
  "nbformat": 4,
  "nbformat_minor": 0,
  "metadata": {
    "colab": {
      "provenance": [],
      "authorship_tag": "ABX9TyOn8yPZZtquFCzVSdOdNk4l",
      "include_colab_link": true
    },
    "kernelspec": {
      "name": "python3",
      "display_name": "Python 3"
    },
    "language_info": {
      "name": "python"
    }
  },
  "cells": [
    {
      "cell_type": "markdown",
      "metadata": {
        "id": "view-in-github",
        "colab_type": "text"
      },
      "source": [
        "<a href=\"https://colab.research.google.com/github/mingyeoll/BP_10_Ch5/blob/main/BP_10_Ch5.ipynb\" target=\"_parent\"><img src=\"https://colab.research.google.com/assets/colab-badge.svg\" alt=\"Open In Colab\"/></a>"
      ]
    },
    {
      "cell_type": "code",
      "source": [
        "age = 20  #나이=20\n",
        "if age < 20:   #만약에 나이가 20미만이라면\n",
        "   print('20살 미만') # 출력 20살 미만\n",
        "else:               #아니라면\n",
        "   print('20살 이상')    # 출력 20살 이상"
      ],
      "metadata": {
        "colab": {
          "base_uri": "https://localhost:8080/"
        },
        "id": "zs9p1J42_DnP",
        "outputId": "4bc4995b-0d89-47ba-a42b-278f1ab508e8"
      },
      "execution_count": 10,
      "outputs": [
        {
          "output_type": "stream",
          "name": "stdout",
          "text": [
            "20살 이상\n"
          ]
        }
      ]
    },
    {
      "cell_type": "code",
      "execution_count": 23,
      "metadata": {
        "colab": {
          "base_uri": "https://localhost:8080/"
        },
        "id": "-jW50S_q4vS7",
        "outputId": "f83aaf49-b3e6-46ff-aa13-4d783138c02c"
      },
      "outputs": [
        {
          "output_type": "stream",
          "name": "stdout",
          "text": [
            "30살이상이고 50살 이하인 수를 제외한 나머지수\n"
          ]
        }
      ],
      "source": [
        "age = 20  #나이가 20살임\n",
        "if age >= 30 and age <= 50:   # 만약 나이가 30이상이고 50이라하면\n",
        " print('30살 이상이고 50살 이하')   #출력 30살 이상이고 50살 이하\n",
        "else:                       #아니라면  \n",
        "    print('30살이상이고 50살 이하인 수를 제외한 나머지수')   #출력 30살이상이고 50살 이하인 수를 제외한 나머지수"
      ]
    },
    {
      "cell_type": "code",
      "source": [
        "temp = int(input(\"현재 온도를 입력하시오: \"))   #현재 온도를 입력하시오\n",
        "if temp >= 25:      #만약 25도가 넘는다면\n",
        " print(\"반바지를 입으세요\")   # 출력 반바지를 입으세요\n",
        "else:                    #아니라면\n",
        " print(\"긴바지를 입으세요\")   #출석 긴바지를 입으세요"
      ],
      "metadata": {
        "colab": {
          "base_uri": "https://localhost:8080/"
        },
        "id": "0_uBhSXE-LBO",
        "outputId": "5ec63c80-0344-4a7b-a92d-e8ab8546beab"
      },
      "execution_count": 4,
      "outputs": [
        {
          "output_type": "stream",
          "name": "stdout",
          "text": [
            "현재 온도를 입력하시오: 60\n",
            "반바지를 입으세요\n"
          ]
        }
      ]
    },
    {
      "cell_type": "code",
      "source": [
        "score = int(input(\"성적을 입력하시오: \")) #성적을 입력하시오 \n",
        "if score >= 90:   #90점 이상이면\n",
        " print(\"A학점입니다.\")   #출력 A학점입니다.\n",
        "elif score >= 80:   # 80점 이상이면\n",
        " print(\"B학점입니다.\")   #출력 B학점입니다.\n",
        "elif score >= 70:   #70점 이상이면\n",
        " print(\"C학점입니다.\")   #출력 C학점입니다\n",
        "elif score >= 60:   #60점 이상이면\n",
        " print(\"D학점입니다.\")   #출력 D학점입니다\n",
        "else :                #모두 아니라면\n",
        " print(\"F학점입니다.\")  # 출력 F학점입니다\n"
      ],
      "metadata": {
        "colab": {
          "base_uri": "https://localhost:8080/"
        },
        "id": "qXtcdHXQ-h8m",
        "outputId": "579f00a5-0a75-4896-fe9b-b796504f0510"
      },
      "execution_count": 6,
      "outputs": [
        {
          "output_type": "stream",
          "name": "stdout",
          "text": [
            "성적을 입력하시오: 100\n",
            "A학점입니다.\n"
          ]
        }
      ]
    },
    {
      "cell_type": "code",
      "source": [
        "import random         #무작위로 설정\n",
        "x = random.randint(1, 100)  # 1~100에서 무작위로 설정\n",
        "y = random.randint(1, 100)  # 1~100에서 무작위로 설정\n",
        "ans = int(input(str(x)+\"-\"+str(y)+\"=\"))   # x에서y를 뺌\n",
        "if ans == x -y :       #맞았다면\n",
        " print(\"맞았습니다.\")   # 출력 맞았습니다.\n",
        "else :                  #아니라면\n",
        " print(\"틀렸습니다.\")   #출력 틀렸습니다."
      ],
      "metadata": {
        "colab": {
          "base_uri": "https://localhost:8080/"
        },
        "id": "pz9zvWoL-sid",
        "outputId": "b9ee9bce-220f-4633-94ec-7b6c7ab55d71"
      },
      "execution_count": 9,
      "outputs": [
        {
          "output_type": "stream",
          "name": "stdout",
          "text": [
            "69-33=36\n",
            "맞았습니다.\n"
          ]
        }
      ]
    },
    {
      "cell_type": "code",
      "source": [
        "n = int(input(\"정수를 입력하시오: \"))   # 정수를 입력하시오\n",
        "if n%2==0 and n%3==0:     #만약에 2와 3으로 나누어 떨어진다면\n",
        " print(\"2와 3으로 나누어 떨어집니다.\")   #출력 2와 3으로 나누어 떨어집니다.\n",
        "else :                                 #아니라면\n",
        " print(\"2와 3으로 나누어 떨어지지 않습니다.\")   #출력 2와 3으로 나누어 떨어지지 않습니다."
      ],
      "metadata": {
        "colab": {
          "base_uri": "https://localhost:8080/"
        },
        "id": "pLXfWOWlAw-d",
        "outputId": "92b8a0cb-1f7c-435a-ec7e-ed6ab270c9fc"
      },
      "execution_count": 11,
      "outputs": [
        {
          "output_type": "stream",
          "name": "stdout",
          "text": [
            "정수를 입력하시오: 56\n",
            "2와 3으로 나누어 떨어지지 않습니다.\n"
          ]
        }
      ]
    },
    {
      "cell_type": "code",
      "source": [
        "import random         #무작위로 설정\n",
        "solution = random.randint(0, 99)      #정답은 0에서99 무작위\n",
        "user = int(input(\"복권번호를 입력하시요(0에서 99사이): \")) #0에서 99사이의 복권번호를 입력하시오\n",
        "digit1 = solution // 10\n",
        "digit2 = solution % 10\n",
        "u_digit1 = user // 10\n",
        "u_digit2 = user % 10\n",
        "print(\"당첨번호는\", solution, \"입니다.\")   #출력\n",
        "if (digit1 == u_digit1 and digit2 == u_digit2):\n",
        " print(\"상금은 100만원입니다.\")\n",
        "elif (digit1 == u_digit1\n",
        " or digit1 == u_digit2\n",
        " or digit2 == u_digit1\n",
        " or digit2 == u_digit2):\n",
        " print(\"상금은 50만원입니다.\")\n",
        "else:\n",
        " print(\"상금은 없습니다.\")"
      ],
      "metadata": {
        "colab": {
          "base_uri": "https://localhost:8080/"
        },
        "id": "II1F1TWZA-8F",
        "outputId": "c20f2e23-a7b4-44c4-b22f-ddd90d1754ba"
      },
      "execution_count": 18,
      "outputs": [
        {
          "output_type": "stream",
          "name": "stdout",
          "text": [
            "복권번호를 입력하시요(0에서 99사이): 23\n",
            "당첨번호는 72 입니다.\n",
            "상금은 50만원입니다.\n"
          ]
        }
      ]
    }
  ]
}